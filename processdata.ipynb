{
 "cells": [
  {
   "cell_type": "markdown",
   "metadata": {},
   "source": [
    "# For Json "
   ]
  },
  {
   "cell_type": "code",
   "execution_count": 25,
   "metadata": {},
   "outputs": [],
   "source": [
    "import os\n",
    "import json\n",
    "import csv\n",
    "\n",
    "def extract_text_from_json_to_csv(folder_path, label, output_file='output.csv'):\n",
    "    \"\"\"\n",
    "    Extract the \"text\" field from JSON files in a folder and save to a CSV file.\n",
    "\n",
    "    Parameters:\n",
    "    - folder_path (str): Path to the folder containing JSON files.\n",
    "    - label (str): Label to be added to the \"Label\" column for each row.\n",
    "    - output_file (str): Name of the output CSV file.\n",
    "\n",
    "    Returns:\n",
    "    None\n",
    "    \"\"\"\n",
    "\n",
    "    # Tạo một danh sách để lưu trữ dữ liệu trích xuất\n",
    "    texts = []\n",
    "\n",
    "    # Duyệt qua tất cả các file trong thư mục\n",
    "    for filename in os.listdir(folder_path):\n",
    "        if filename.endswith('.json'):\n",
    "            with open(os.path.join(folder_path, filename), 'r', encoding='utf-8') as f:\n",
    "                data = json.load(f)\n",
    "                try:\n",
    "                    texts.append(data['maintext'])\n",
    "                except:\n",
    "                    texts.append(data['text'])\n",
    "\n",
    "\n",
    "    # Kiểm tra xem file CSV đã tồn tại chưa\n",
    "    file_exists = os.path.isfile(output_file)\n",
    "\n",
    "    # Lưu dữ liệu vào file CSV\n",
    "    with open(output_file, 'a', newline='', encoding='utf-8') as csvfile:\n",
    "        writer = csv.writer(csvfile)\n",
    "        \n",
    "        # Nếu file chưa tồn tại, thêm tiêu đề cột\n",
    "        if not file_exists:\n",
    "            writer.writerow(['Text', 'Label'])\n",
    "        \n",
    "        for text in texts:\n",
    "            writer.writerow([text, label])\n",
    "\n",
    "\n"
   ]
  },
  {
   "cell_type": "code",
   "execution_count": 28,
   "metadata": {},
   "outputs": [
    {
     "name": "stdout",
     "output_type": "stream",
     "text": [
      "done\n"
     ]
    }
   ],
   "source": [
    "# Sử dụng hàm:\n",
    "path_to_folder = \"Real1\\Article_Contents\"\n",
    "label = 0\n",
    "path_to_csv = \"dataset.csv\"\n",
    "\n",
    "extract_text_from_json_to_csv(path_to_folder, label, path_to_csv)\n",
    "print(\"done\")"
   ]
  },
  {
   "cell_type": "markdown",
   "metadata": {},
   "source": [
    "# for csv file"
   ]
  },
  {
   "cell_type": "code",
   "execution_count": 32,
   "metadata": {},
   "outputs": [],
   "source": [
    "import csv\n",
    "import os\n",
    "\n",
    "def transfer_csv_content(input_file, label, output_file):\n",
    "    \"\"\"\n",
    "    Transfer content from the \"text\" column of an input CSV file to an output CSV file with a constant label.\n",
    "\n",
    "    Parameters:\n",
    "    - input_file (str): Name of the input CSV file.\n",
    "    - label (str): Constant label to be used for all rows in the output CSV.\n",
    "    - output_file (str): Name of the output CSV file.\n",
    "\n",
    "    Returns:\n",
    "    None\n",
    "    \"\"\"\n",
    "    # Read the input CSV file\n",
    "    with open(input_file, 'r', encoding='utf-8') as infile:\n",
    "        reader = csv.DictReader(infile)\n",
    "        \n",
    "        # Extract the \"text\" column\n",
    "        texts = [row['preview'] for row in reader]\n",
    "\n",
    "    # Check if the output CSV file exists\n",
    "    file_exists = os.path.isfile(output_file)\n",
    "\n",
    "    # Write data to the output CSV file\n",
    "    with open(output_file, 'a', newline='', encoding='utf-8') as outfile:\n",
    "        writer = csv.writer(outfile)\n",
    "        \n",
    "        # If the file doesn't exist, write the headers\n",
    "        if not file_exists:\n",
    "            writer.writerow(['Text', 'Label'])\n",
    "        \n",
    "        # Write the data with the constant label\n",
    "        for text in texts:\n",
    "            writer.writerow([text, label])\n",
    "\n"
   ]
  },
  {
   "cell_type": "code",
   "execution_count": 33,
   "metadata": {},
   "outputs": [
    {
     "name": "stdout",
     "output_type": "stream",
     "text": [
      "done\n"
     ]
    }
   ],
   "source": [
    "\n",
    "# Sử dụng hàm:\n",
    "csv_input = \"database.csv\"\n",
    "label = 0\n",
    "path_to_csv = \"dataset.csv\"\n",
    "\n",
    "transfer_csv_content(csv_input, label, path_to_csv)\n",
    "print('done')"
   ]
  },
  {
   "cell_type": "markdown",
   "metadata": {},
   "source": [
    "# Check data file"
   ]
  },
  {
   "cell_type": "code",
   "execution_count": 29,
   "metadata": {},
   "outputs": [],
   "source": [
    "import csv\n",
    "\n",
    "def read_csv_rows(file_name):\n",
    "    \"\"\"\n",
    "    Read and print each row of a CSV file.\n",
    "\n",
    "    Parameters:\n",
    "    - file_name (str): Name of the CSV file to read.\n",
    "\n",
    "    Returns:\n",
    "    None\n",
    "    \"\"\"\n",
    "    list = []\n",
    "    with open(file_name, 'r', encoding='utf-8') as csvfile:\n",
    "        reader = csv.reader(csvfile)\n",
    "        for row in reader:\n",
    "            # print(row)\n",
    "            list.append(row)\n",
    "        \n",
    "    \n",
    "\n",
    "    return list\n",
    "\n"
   ]
  },
  {
   "cell_type": "code",
   "execution_count": 34,
   "metadata": {},
   "outputs": [
    {
     "name": "stdout",
     "output_type": "stream",
     "text": [
      "1907\n"
     ]
    }
   ],
   "source": [
    "\n",
    "data = read_csv_rows(path_to_csv)\n",
    "print(len(data))"
   ]
  }
 ],
 "metadata": {
  "kernelspec": {
   "display_name": "KLTN",
   "language": "python",
   "name": "python3"
  },
  "language_info": {
   "codemirror_mode": {
    "name": "ipython",
    "version": 3
   },
   "file_extension": ".py",
   "mimetype": "text/x-python",
   "name": "python",
   "nbconvert_exporter": "python",
   "pygments_lexer": "ipython3",
   "version": "3.8.18"
  },
  "orig_nbformat": 4
 },
 "nbformat": 4,
 "nbformat_minor": 2
}
